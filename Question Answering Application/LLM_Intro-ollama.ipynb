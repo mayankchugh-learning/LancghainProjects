{
  "cells": [
    {
      "cell_type": "markdown",
      "id": "b947c78e",
      "metadata": {
        "id": "b947c78e"
      },
      "source": [
        "<font color='green'>\n",
        "Pip install is the command you use to install Python packages with the help of a tool called Pip package manager.\n",
        "<br><br>Installing LangChain package\n",
        "</font>"
      ]
    },
    {
      "cell_type": "code",
      "execution_count": 1,
      "id": "8236fd59",
      "metadata": {
        "colab": {
          "base_uri": "https://localhost:8080/"
        },
        "id": "8236fd59",
        "outputId": "0ec2ed85-6df0-4275-c75d-e6a3e443331a"
      },
      "outputs": [
        {
          "name": "stdout",
          "output_type": "stream",
          "text": [
            "Collecting langchain==0.1.13\n",
            "  Using cached langchain-0.1.13-py3-none-any.whl.metadata (13 kB)\n",
            "Requirement already satisfied: PyYAML>=5.3 in ./langchainS05VEnv/lib/python3.12/site-packages (from langchain==0.1.13) (6.0.1)\n",
            "Requirement already satisfied: SQLAlchemy<3,>=1.4 in ./langchainS05VEnv/lib/python3.12/site-packages (from langchain==0.1.13) (2.0.30)\n",
            "Requirement already satisfied: aiohttp<4.0.0,>=3.8.3 in ./langchainS05VEnv/lib/python3.12/site-packages (from langchain==0.1.13) (3.9.5)\n",
            "Collecting dataclasses-json<0.7,>=0.5.7 (from langchain==0.1.13)\n",
            "  Using cached dataclasses_json-0.6.6-py3-none-any.whl.metadata (25 kB)\n",
            "Requirement already satisfied: jsonpatch<2.0,>=1.33 in ./langchainS05VEnv/lib/python3.12/site-packages (from langchain==0.1.13) (1.33)\n",
            "Collecting langchain-community<0.1,>=0.0.29 (from langchain==0.1.13)\n",
            "  Using cached langchain_community-0.0.38-py3-none-any.whl.metadata (8.7 kB)\n",
            "Collecting langchain-core<0.2.0,>=0.1.33 (from langchain==0.1.13)\n",
            "  Using cached langchain_core-0.1.52-py3-none-any.whl.metadata (5.9 kB)\n",
            "Collecting langchain-text-splitters<0.1,>=0.0.1 (from langchain==0.1.13)\n",
            "  Using cached langchain_text_splitters-0.0.2-py3-none-any.whl.metadata (2.2 kB)\n",
            "Requirement already satisfied: langsmith<0.2.0,>=0.1.17 in ./langchainS05VEnv/lib/python3.12/site-packages (from langchain==0.1.13) (0.1.69)\n",
            "Requirement already satisfied: numpy<2,>=1 in ./langchainS05VEnv/lib/python3.12/site-packages (from langchain==0.1.13) (1.26.4)\n",
            "Requirement already satisfied: pydantic<3,>=1 in ./langchainS05VEnv/lib/python3.12/site-packages (from langchain==0.1.13) (2.7.3)\n",
            "Requirement already satisfied: requests<3,>=2 in ./langchainS05VEnv/lib/python3.12/site-packages (from langchain==0.1.13) (2.32.3)\n",
            "Requirement already satisfied: tenacity<9.0.0,>=8.1.0 in ./langchainS05VEnv/lib/python3.12/site-packages (from langchain==0.1.13) (8.3.0)\n",
            "Requirement already satisfied: aiosignal>=1.1.2 in ./langchainS05VEnv/lib/python3.12/site-packages (from aiohttp<4.0.0,>=3.8.3->langchain==0.1.13) (1.3.1)\n",
            "Requirement already satisfied: attrs>=17.3.0 in ./langchainS05VEnv/lib/python3.12/site-packages (from aiohttp<4.0.0,>=3.8.3->langchain==0.1.13) (23.2.0)\n",
            "Requirement already satisfied: frozenlist>=1.1.1 in ./langchainS05VEnv/lib/python3.12/site-packages (from aiohttp<4.0.0,>=3.8.3->langchain==0.1.13) (1.4.1)\n",
            "Requirement already satisfied: multidict<7.0,>=4.5 in ./langchainS05VEnv/lib/python3.12/site-packages (from aiohttp<4.0.0,>=3.8.3->langchain==0.1.13) (6.0.5)\n",
            "Requirement already satisfied: yarl<2.0,>=1.0 in ./langchainS05VEnv/lib/python3.12/site-packages (from aiohttp<4.0.0,>=3.8.3->langchain==0.1.13) (1.9.4)\n",
            "Collecting marshmallow<4.0.0,>=3.18.0 (from dataclasses-json<0.7,>=0.5.7->langchain==0.1.13)\n",
            "  Using cached marshmallow-3.21.2-py3-none-any.whl.metadata (7.1 kB)\n",
            "Collecting typing-inspect<1,>=0.4.0 (from dataclasses-json<0.7,>=0.5.7->langchain==0.1.13)\n",
            "  Using cached typing_inspect-0.9.0-py3-none-any.whl.metadata (1.5 kB)\n",
            "Requirement already satisfied: jsonpointer>=1.9 in ./langchainS05VEnv/lib/python3.12/site-packages (from jsonpatch<2.0,>=1.33->langchain==0.1.13) (2.4)\n",
            "Requirement already satisfied: packaging<24.0,>=23.2 in ./langchainS05VEnv/lib/python3.12/site-packages (from langchain-core<0.2.0,>=0.1.33->langchain==0.1.13) (23.2)\n",
            "Requirement already satisfied: orjson<4.0.0,>=3.9.14 in ./langchainS05VEnv/lib/python3.12/site-packages (from langsmith<0.2.0,>=0.1.17->langchain==0.1.13) (3.10.3)\n",
            "Requirement already satisfied: annotated-types>=0.4.0 in ./langchainS05VEnv/lib/python3.12/site-packages (from pydantic<3,>=1->langchain==0.1.13) (0.7.0)\n",
            "Requirement already satisfied: pydantic-core==2.18.4 in ./langchainS05VEnv/lib/python3.12/site-packages (from pydantic<3,>=1->langchain==0.1.13) (2.18.4)\n",
            "Requirement already satisfied: typing-extensions>=4.6.1 in ./langchainS05VEnv/lib/python3.12/site-packages (from pydantic<3,>=1->langchain==0.1.13) (4.12.1)\n",
            "Requirement already satisfied: charset-normalizer<4,>=2 in ./langchainS05VEnv/lib/python3.12/site-packages (from requests<3,>=2->langchain==0.1.13) (3.3.2)\n",
            "Requirement already satisfied: idna<4,>=2.5 in ./langchainS05VEnv/lib/python3.12/site-packages (from requests<3,>=2->langchain==0.1.13) (3.7)\n",
            "Requirement already satisfied: urllib3<3,>=1.21.1 in ./langchainS05VEnv/lib/python3.12/site-packages (from requests<3,>=2->langchain==0.1.13) (2.2.1)\n",
            "Requirement already satisfied: certifi>=2017.4.17 in ./langchainS05VEnv/lib/python3.12/site-packages (from requests<3,>=2->langchain==0.1.13) (2024.6.2)\n",
            "Collecting mypy-extensions>=0.3.0 (from typing-inspect<1,>=0.4.0->dataclasses-json<0.7,>=0.5.7->langchain==0.1.13)\n",
            "  Using cached mypy_extensions-1.0.0-py3-none-any.whl.metadata (1.1 kB)\n",
            "Using cached langchain-0.1.13-py3-none-any.whl (810 kB)\n",
            "Using cached dataclasses_json-0.6.6-py3-none-any.whl (28 kB)\n",
            "Using cached langchain_community-0.0.38-py3-none-any.whl (2.0 MB)\n",
            "Using cached langchain_core-0.1.52-py3-none-any.whl (302 kB)\n",
            "Using cached langchain_text_splitters-0.0.2-py3-none-any.whl (23 kB)\n",
            "Using cached marshmallow-3.21.2-py3-none-any.whl (49 kB)\n",
            "Using cached typing_inspect-0.9.0-py3-none-any.whl (8.8 kB)\n",
            "Using cached mypy_extensions-1.0.0-py3-none-any.whl (4.7 kB)\n",
            "Installing collected packages: mypy-extensions, marshmallow, typing-inspect, dataclasses-json, langchain-core, langchain-text-splitters, langchain-community, langchain\n",
            "  Attempting uninstall: langchain-core\n",
            "    Found existing installation: langchain-core 0.2.4\n",
            "    Uninstalling langchain-core-0.2.4:\n",
            "      Successfully uninstalled langchain-core-0.2.4\n",
            "  Attempting uninstall: langchain-text-splitters\n",
            "    Found existing installation: langchain-text-splitters 0.2.1\n",
            "    Uninstalling langchain-text-splitters-0.2.1:\n",
            "      Successfully uninstalled langchain-text-splitters-0.2.1\n",
            "  Attempting uninstall: langchain\n",
            "    Found existing installation: langchain 0.2.2\n",
            "    Uninstalling langchain-0.2.2:\n",
            "      Successfully uninstalled langchain-0.2.2\n",
            "\u001b[31mERROR: pip's dependency resolver does not currently take into account all the packages that are installed. This behaviour is the source of the following dependency conflicts.\n",
            "langchain-openai 0.1.8 requires langchain-core<0.3,>=0.2.2, but you have langchain-core 0.1.52 which is incompatible.\u001b[0m\u001b[31m\n",
            "\u001b[0mSuccessfully installed dataclasses-json-0.6.6 langchain-0.1.13 langchain-community-0.0.38 langchain-core-0.1.52 langchain-text-splitters-0.0.2 marshmallow-3.21.2 mypy-extensions-1.0.0 typing-inspect-0.9.0\n"
          ]
        }
      ],
      "source": [
        "!pip install langchain==0.1.13"
      ]
    },
    {
      "cell_type": "markdown",
      "id": "32c225b4",
      "metadata": {
        "id": "32c225b4"
      },
      "source": [
        "## Let's use Proprietary LLM from - OpenAI"
      ]
    },
    {
      "cell_type": "markdown",
      "id": "2a0e925c",
      "metadata": {
        "id": "2a0e925c"
      },
      "source": [
        "<font color='green'>\n",
        "Installing Openai package, which includes the classes that we can use to communicate with Openai services\n",
        "<font>"
      ]
    },
    {
      "cell_type": "code",
      "execution_count": 2,
      "id": "5cb5a1a7",
      "metadata": {
        "colab": {
          "base_uri": "https://localhost:8080/"
        },
        "id": "5cb5a1a7",
        "outputId": "750757ec-dd3f-4fd7-d284-b389456c71b2"
      },
      "outputs": [
        {
          "name": "stdout",
          "output_type": "stream",
          "text": [
            "Collecting openai==1.14.2\n",
            "  Using cached openai-1.14.2-py3-none-any.whl.metadata (19 kB)\n",
            "Requirement already satisfied: anyio<5,>=3.5.0 in ./langchainS05VEnv/lib/python3.12/site-packages (from openai==1.14.2) (4.4.0)\n",
            "Requirement already satisfied: distro<2,>=1.7.0 in ./langchainS05VEnv/lib/python3.12/site-packages (from openai==1.14.2) (1.9.0)\n",
            "Requirement already satisfied: httpx<1,>=0.23.0 in ./langchainS05VEnv/lib/python3.12/site-packages (from openai==1.14.2) (0.27.0)\n",
            "Requirement already satisfied: pydantic<3,>=1.9.0 in ./langchainS05VEnv/lib/python3.12/site-packages (from openai==1.14.2) (2.7.3)\n",
            "Requirement already satisfied: sniffio in ./langchainS05VEnv/lib/python3.12/site-packages (from openai==1.14.2) (1.3.1)\n",
            "Requirement already satisfied: tqdm>4 in ./langchainS05VEnv/lib/python3.12/site-packages (from openai==1.14.2) (4.66.4)\n",
            "Requirement already satisfied: typing-extensions<5,>=4.7 in ./langchainS05VEnv/lib/python3.12/site-packages (from openai==1.14.2) (4.12.1)\n",
            "Requirement already satisfied: idna>=2.8 in ./langchainS05VEnv/lib/python3.12/site-packages (from anyio<5,>=3.5.0->openai==1.14.2) (3.7)\n",
            "Requirement already satisfied: certifi in ./langchainS05VEnv/lib/python3.12/site-packages (from httpx<1,>=0.23.0->openai==1.14.2) (2024.6.2)\n",
            "Requirement already satisfied: httpcore==1.* in ./langchainS05VEnv/lib/python3.12/site-packages (from httpx<1,>=0.23.0->openai==1.14.2) (1.0.5)\n",
            "Requirement already satisfied: h11<0.15,>=0.13 in ./langchainS05VEnv/lib/python3.12/site-packages (from httpcore==1.*->httpx<1,>=0.23.0->openai==1.14.2) (0.14.0)\n",
            "Requirement already satisfied: annotated-types>=0.4.0 in ./langchainS05VEnv/lib/python3.12/site-packages (from pydantic<3,>=1.9.0->openai==1.14.2) (0.7.0)\n",
            "Requirement already satisfied: pydantic-core==2.18.4 in ./langchainS05VEnv/lib/python3.12/site-packages (from pydantic<3,>=1.9.0->openai==1.14.2) (2.18.4)\n",
            "Using cached openai-1.14.2-py3-none-any.whl (262 kB)\n",
            "Installing collected packages: openai\n",
            "  Attempting uninstall: openai\n",
            "    Found existing installation: openai 1.31.0\n",
            "    Uninstalling openai-1.31.0:\n",
            "      Successfully uninstalled openai-1.31.0\n",
            "\u001b[31mERROR: pip's dependency resolver does not currently take into account all the packages that are installed. This behaviour is the source of the following dependency conflicts.\n",
            "langchain-openai 0.1.8 requires langchain-core<0.3,>=0.2.2, but you have langchain-core 0.1.52 which is incompatible.\n",
            "langchain-openai 0.1.8 requires openai<2.0.0,>=1.26.0, but you have openai 1.14.2 which is incompatible.\u001b[0m\u001b[31m\n",
            "\u001b[0mSuccessfully installed openai-1.14.2\n"
          ]
        }
      ],
      "source": [
        "!pip install openai==1.14.2"
      ]
    },
    {
      "cell_type": "markdown",
      "id": "f274e9c5",
      "metadata": {
        "id": "f274e9c5"
      },
      "source": [
        "<font color='green'>\n",
        "Imports the Python built-in module called \"os.\"\n",
        "<br>This module provides a way to interact with the operating system, such as accessing environment variables, working with files and directories, executing shell commands, etc\n",
        "<br><br>\n",
        "The environ attribute is a dictionary-like object that contains the environment variables of the current operating system session\n",
        "<br><br>\n",
        "By accessing os.environ, you can retrieve and manipulate environment variables within your Python program. For example, you can retrieve the value of a specific environment variable using the syntax os.environ['VARIABLE_NAME'], where \"VARIABLE_NAME\" is the name of the environment variable you want to access.\n",
        "<font>"
      ]
    },
    {
      "cell_type": "code",
      "execution_count": 4,
      "id": "a4d278e8",
      "metadata": {
        "id": "a4d278e8"
      },
      "outputs": [],
      "source": [
        "import os\n",
        "#os.environ[\"OPENAI_API_KEY\"] = \"sk----\""
      ]
    },
    {
      "cell_type": "markdown",
      "id": "5aef06cb",
      "metadata": {
        "id": "5aef06cb"
      },
      "source": [
        "<font color='green'>\n",
        "LangChain has built a Wrapper around OpenAI APIs, using which we can get access to all the services OpenAI provides.\n",
        "<br>\n",
        "The code snippet below imports a specific class called 'OpenAI'(Wrapper around OpenAI large language models) from the 'llms' module of the 'langchain' library.\n",
        "\n",
        "<br>https://python.langchain.com/en/latest/_modules/langchain/llms/openai.html\n",
        "<font>"
      ]
    },
    {
      "cell_type": "code",
      "execution_count": 8,
      "id": "db64eaa7",
      "metadata": {
        "colab": {
          "base_uri": "https://localhost:8080/"
        },
        "id": "db64eaa7",
        "outputId": "baf02696-7617-4bd6-a972-f18b6f749059"
      },
      "outputs": [
        {
          "name": "stdout",
          "output_type": "stream",
          "text": [
            "Requirement already satisfied: langchain-openai in ./langchainS05VEnv/lib/python3.12/site-packages (0.1.8)\n",
            "Requirement already satisfied: langchain-core<0.3,>=0.2.2 in ./langchainS05VEnv/lib/python3.12/site-packages (from langchain-openai) (0.2.4)\n",
            "Requirement already satisfied: openai<2.0.0,>=1.26.0 in ./langchainS05VEnv/lib/python3.12/site-packages (from langchain-openai) (1.31.0)\n",
            "Requirement already satisfied: tiktoken<1,>=0.7 in ./langchainS05VEnv/lib/python3.12/site-packages (from langchain-openai) (0.7.0)\n",
            "Requirement already satisfied: PyYAML>=5.3 in ./langchainS05VEnv/lib/python3.12/site-packages (from langchain-core<0.3,>=0.2.2->langchain-openai) (6.0.1)\n",
            "Requirement already satisfied: jsonpatch<2.0,>=1.33 in ./langchainS05VEnv/lib/python3.12/site-packages (from langchain-core<0.3,>=0.2.2->langchain-openai) (1.33)\n",
            "Requirement already satisfied: langsmith<0.2.0,>=0.1.66 in ./langchainS05VEnv/lib/python3.12/site-packages (from langchain-core<0.3,>=0.2.2->langchain-openai) (0.1.69)\n",
            "Requirement already satisfied: packaging<24.0,>=23.2 in ./langchainS05VEnv/lib/python3.12/site-packages (from langchain-core<0.3,>=0.2.2->langchain-openai) (23.2)\n",
            "Requirement already satisfied: pydantic<3,>=1 in ./langchainS05VEnv/lib/python3.12/site-packages (from langchain-core<0.3,>=0.2.2->langchain-openai) (2.7.3)\n",
            "Requirement already satisfied: tenacity<9.0.0,>=8.1.0 in ./langchainS05VEnv/lib/python3.12/site-packages (from langchain-core<0.3,>=0.2.2->langchain-openai) (8.3.0)\n",
            "Requirement already satisfied: anyio<5,>=3.5.0 in ./langchainS05VEnv/lib/python3.12/site-packages (from openai<2.0.0,>=1.26.0->langchain-openai) (4.4.0)\n",
            "Requirement already satisfied: distro<2,>=1.7.0 in ./langchainS05VEnv/lib/python3.12/site-packages (from openai<2.0.0,>=1.26.0->langchain-openai) (1.9.0)\n",
            "Requirement already satisfied: httpx<1,>=0.23.0 in ./langchainS05VEnv/lib/python3.12/site-packages (from openai<2.0.0,>=1.26.0->langchain-openai) (0.27.0)\n",
            "Requirement already satisfied: sniffio in ./langchainS05VEnv/lib/python3.12/site-packages (from openai<2.0.0,>=1.26.0->langchain-openai) (1.3.1)\n",
            "Requirement already satisfied: tqdm>4 in ./langchainS05VEnv/lib/python3.12/site-packages (from openai<2.0.0,>=1.26.0->langchain-openai) (4.66.4)\n",
            "Requirement already satisfied: typing-extensions<5,>=4.7 in ./langchainS05VEnv/lib/python3.12/site-packages (from openai<2.0.0,>=1.26.0->langchain-openai) (4.12.1)\n",
            "Requirement already satisfied: regex>=2022.1.18 in ./langchainS05VEnv/lib/python3.12/site-packages (from tiktoken<1,>=0.7->langchain-openai) (2024.5.15)\n",
            "Requirement already satisfied: requests>=2.26.0 in ./langchainS05VEnv/lib/python3.12/site-packages (from tiktoken<1,>=0.7->langchain-openai) (2.32.3)\n",
            "Requirement already satisfied: idna>=2.8 in ./langchainS05VEnv/lib/python3.12/site-packages (from anyio<5,>=3.5.0->openai<2.0.0,>=1.26.0->langchain-openai) (3.7)\n",
            "Requirement already satisfied: certifi in ./langchainS05VEnv/lib/python3.12/site-packages (from httpx<1,>=0.23.0->openai<2.0.0,>=1.26.0->langchain-openai) (2024.6.2)\n",
            "Requirement already satisfied: httpcore==1.* in ./langchainS05VEnv/lib/python3.12/site-packages (from httpx<1,>=0.23.0->openai<2.0.0,>=1.26.0->langchain-openai) (1.0.5)\n",
            "Requirement already satisfied: h11<0.15,>=0.13 in ./langchainS05VEnv/lib/python3.12/site-packages (from httpcore==1.*->httpx<1,>=0.23.0->openai<2.0.0,>=1.26.0->langchain-openai) (0.14.0)\n",
            "Requirement already satisfied: jsonpointer>=1.9 in ./langchainS05VEnv/lib/python3.12/site-packages (from jsonpatch<2.0,>=1.33->langchain-core<0.3,>=0.2.2->langchain-openai) (2.4)\n",
            "Requirement already satisfied: orjson<4.0.0,>=3.9.14 in ./langchainS05VEnv/lib/python3.12/site-packages (from langsmith<0.2.0,>=0.1.66->langchain-core<0.3,>=0.2.2->langchain-openai) (3.10.3)\n",
            "Requirement already satisfied: annotated-types>=0.4.0 in ./langchainS05VEnv/lib/python3.12/site-packages (from pydantic<3,>=1->langchain-core<0.3,>=0.2.2->langchain-openai) (0.7.0)\n",
            "Requirement already satisfied: pydantic-core==2.18.4 in ./langchainS05VEnv/lib/python3.12/site-packages (from pydantic<3,>=1->langchain-core<0.3,>=0.2.2->langchain-openai) (2.18.4)\n",
            "Requirement already satisfied: charset-normalizer<4,>=2 in ./langchainS05VEnv/lib/python3.12/site-packages (from requests>=2.26.0->tiktoken<1,>=0.7->langchain-openai) (3.3.2)\n",
            "Requirement already satisfied: urllib3<3,>=1.21.1 in ./langchainS05VEnv/lib/python3.12/site-packages (from requests>=2.26.0->tiktoken<1,>=0.7->langchain-openai) (2.2.1)\n"
          ]
        }
      ],
      "source": [
        "#As Langchain team has been working aggresively on improving the tool, we can see a lot of changes happening every weeek,\n",
        "#As a part of it, the below import has been depreciated\n",
        "#from langchain.llms import OpenAI\n",
        "\n",
        "#First we'll need to import the below LangChain - OpenAI integration package and then import it please, if not installed already\n",
        "\n",
        "!pip install langchain-openai\n",
        "\n",
        "from langchain_openai import ChatOpenAI"
      ]
    },
    {
      "cell_type": "markdown",
      "id": "6a9d124f",
      "metadata": {
        "id": "6a9d124f"
      },
      "source": [
        "<font color='green'>Here we are instantiating a language model object called OpenAI, for our natural language processing tasks.\n",
        "<br><br>\n",
        "The parameter model_name is provided with the value \"text-davinci-003\" which is a specific version or variant of a language model (examples - text-davinci-003, code-davinci-002, gpt-3.5-turbo, text-ada-001 and more).\n",
        "<font>"
      ]
    },
    {
      "cell_type": "code",
      "execution_count": 9,
      "id": "ugJ9fjxWsvPP",
      "metadata": {
        "id": "ugJ9fjxWsvPP"
      },
      "outputs": [],
      "source": [
        "model=\"llama3\"\n",
        "base_url=\"http://localhost:11434/v1\",\n",
        "api_key=\"NA\"\n"
      ]
    },
    {
      "cell_type": "code",
      "execution_count": 10,
      "id": "d-voVF5cslWS",
      "metadata": {
        "id": "d-voVF5cslWS"
      },
      "outputs": [],
      "source": [
        "base_url=\"https://api.endpoints.anyscale.com/v1\"\n",
        "model = 'mistralai/Mixtral-8x7B-Instruct-v0.1'"
      ]
    },
    {
      "cell_type": "code",
      "execution_count": 14,
      "id": "9a3be989",
      "metadata": {
        "id": "9a3be989"
      },
      "outputs": [],
      "source": [
        "llm = ChatOpenAI(\n",
        "    model=\"llama3\",\n",
        "    base_url=\"http://localhost:11434/v1\",\n",
        "    api_key=\"NA\"\n",
        ")"
      ]
    },
    {
      "cell_type": "markdown",
      "id": "396c7904",
      "metadata": {
        "id": "396c7904"
      },
      "source": [
        "<font color='green'>\n",
        "Here language model is represented by the object \"llm,\" which is being utilized to generate a completion or response based on a specific query.\n",
        "<br><br>\n",
        "The query, stored in the \"our_query\" variable is bieng passed to the model through llm object.\n",
        "<font>"
      ]
    },
    {
      "cell_type": "code",
      "execution_count": 15,
      "id": "a2e267f6",
      "metadata": {
        "id": "a2e267f6"
      },
      "outputs": [],
      "source": [
        "our_query = \"What is the currency of India?\"\n",
        "\n",
        "#Last week langchain has recommended to use invoke function for the below please :)\n",
        "completion = llm.invoke(our_query)"
      ]
    },
    {
      "cell_type": "code",
      "execution_count": 16,
      "id": "39f1b87e",
      "metadata": {
        "colab": {
          "base_uri": "https://localhost:8080/"
        },
        "id": "39f1b87e",
        "outputId": "35c32336-c603-4643-9ce2-a14a62c28a60"
      },
      "outputs": [
        {
          "name": "stdout",
          "output_type": "stream",
          "text": [
            "content='The official currency of India is the Indian Rupee (INR or ₹). It is subdivided into 100 paise, although coins in denominations of 1 paisa and 2 paisa are rarely used. The Indian Rupee is issued by the Reserve Bank of India (RBI) and is widely accepted across the country.' response_metadata={'token_usage': {'completion_tokens': 70, 'prompt_tokens': 17, 'total_tokens': 87}, 'model_name': 'llama3', 'system_fingerprint': 'fp_ollama', 'finish_reason': 'stop', 'logprobs': None} id='run-ce3d70a7-7330-48e3-83cd-3673f4f9181c-0' usage_metadata={'input_tokens': 17, 'output_tokens': 70, 'total_tokens': 87}\n"
          ]
        }
      ],
      "source": [
        "print(completion)"
      ]
    },
    {
      "cell_type": "markdown",
      "id": "e2085724",
      "metadata": {
        "id": "e2085724"
      },
      "source": [
        "## Let's use open-source LLM hosted on Hugging Face"
      ]
    },
    {
      "cell_type": "code",
      "execution_count": 17,
      "id": "eb4f9984",
      "metadata": {
        "colab": {
          "base_uri": "https://localhost:8080/"
        },
        "id": "eb4f9984",
        "outputId": "d67e674d-7360-4b6e-d22c-7d4410c8eb6f"
      },
      "outputs": [
        {
          "name": "stdout",
          "output_type": "stream",
          "text": [
            "Collecting huggingface-hub==0.21.4\n",
            "  Using cached huggingface_hub-0.21.4-py3-none-any.whl.metadata (13 kB)\n",
            "Requirement already satisfied: filelock in ./langchainS05VEnv/lib/python3.12/site-packages (from huggingface-hub==0.21.4) (3.14.0)\n",
            "Requirement already satisfied: fsspec>=2023.5.0 in ./langchainS05VEnv/lib/python3.12/site-packages (from huggingface-hub==0.21.4) (2024.6.0)\n",
            "Requirement already satisfied: requests in ./langchainS05VEnv/lib/python3.12/site-packages (from huggingface-hub==0.21.4) (2.32.3)\n",
            "Requirement already satisfied: tqdm>=4.42.1 in ./langchainS05VEnv/lib/python3.12/site-packages (from huggingface-hub==0.21.4) (4.66.4)\n",
            "Requirement already satisfied: pyyaml>=5.1 in ./langchainS05VEnv/lib/python3.12/site-packages (from huggingface-hub==0.21.4) (6.0.1)\n",
            "Requirement already satisfied: typing-extensions>=3.7.4.3 in ./langchainS05VEnv/lib/python3.12/site-packages (from huggingface-hub==0.21.4) (4.12.1)\n",
            "Requirement already satisfied: packaging>=20.9 in ./langchainS05VEnv/lib/python3.12/site-packages (from huggingface-hub==0.21.4) (23.2)\n",
            "Requirement already satisfied: charset-normalizer<4,>=2 in ./langchainS05VEnv/lib/python3.12/site-packages (from requests->huggingface-hub==0.21.4) (3.3.2)\n",
            "Requirement already satisfied: idna<4,>=2.5 in ./langchainS05VEnv/lib/python3.12/site-packages (from requests->huggingface-hub==0.21.4) (3.7)\n",
            "Requirement already satisfied: urllib3<3,>=1.21.1 in ./langchainS05VEnv/lib/python3.12/site-packages (from requests->huggingface-hub==0.21.4) (2.2.1)\n",
            "Requirement already satisfied: certifi>=2017.4.17 in ./langchainS05VEnv/lib/python3.12/site-packages (from requests->huggingface-hub==0.21.4) (2024.6.2)\n",
            "Using cached huggingface_hub-0.21.4-py3-none-any.whl (346 kB)\n",
            "Installing collected packages: huggingface-hub\n",
            "  Attempting uninstall: huggingface-hub\n",
            "    Found existing installation: huggingface-hub 0.23.2\n",
            "    Uninstalling huggingface-hub-0.23.2:\n",
            "      Successfully uninstalled huggingface-hub-0.23.2\n",
            "\u001b[31mERROR: pip's dependency resolver does not currently take into account all the packages that are installed. This behaviour is the source of the following dependency conflicts.\n",
            "transformers 4.41.2 requires huggingface-hub<1.0,>=0.23.0, but you have huggingface-hub 0.21.4 which is incompatible.\u001b[0m\u001b[31m\n",
            "\u001b[0mSuccessfully installed huggingface-hub-0.21.4\n"
          ]
        }
      ],
      "source": [
        "!pip install huggingface-hub==0.21.4"
      ]
    },
    {
      "cell_type": "code",
      "execution_count": 19,
      "id": "18ba8425",
      "metadata": {
        "id": "18ba8425"
      },
      "outputs": [],
      "source": [
        "import os\n",
        "from dotenv import load_dotenv\n",
        "\n",
        "load_dotenv()\n",
        "\n",
        "os.environ[\"HUGGINGFACEHUB_API_TOKEN\"]=os.getenv(\"HF_TOKEN\")"
      ]
    },
    {
      "cell_type": "code",
      "execution_count": 20,
      "id": "9548eede",
      "metadata": {
        "id": "9548eede"
      },
      "outputs": [],
      "source": [
        "#from langchain.llms import HuggingFaceHub\n",
        "\n",
        "#The above have been updated recently, so going forward we have to use the below :)\n",
        "\n",
        "from langchain.llms import HuggingFaceEndpoint"
      ]
    },
    {
      "cell_type": "code",
      "execution_count": 21,
      "id": "099a0220",
      "metadata": {
        "colab": {
          "base_uri": "https://localhost:8080/"
        },
        "id": "099a0220",
        "outputId": "240eb9f4-1a29-49e0-b323-1296a1a71e32"
      },
      "outputs": [
        {
          "name": "stderr",
          "output_type": "stream",
          "text": [
            "/Users/mayankchugh/gitRepos/mayankchugh.learning/LangchainProjects/Question Answering Application/langchainS05VEnv/lib/python3.12/site-packages/tqdm/auto.py:21: TqdmWarning: IProgress not found. Please update jupyter and ipywidgets. See https://ipywidgets.readthedocs.io/en/stable/user_install.html\n",
            "  from .autonotebook import tqdm as notebook_tqdm\n"
          ]
        },
        {
          "name": "stdout",
          "output_type": "stream",
          "text": [
            "Token has not been saved to git credential helper. Pass `add_to_git_credential=True` if you want to set the git credential as well.\n",
            "Token is valid (permission: write).\n",
            "Your token has been saved to /Users/mayankchugh/.cache/huggingface/token\n",
            "Login successful\n"
          ]
        }
      ],
      "source": [
        "#llm = HuggingFaceHub(repo_id = \"google/flan-t5-large\")\n",
        "\n",
        "#The above 'HuggingFaceHub' class has been depreciated, so please use the below class'HuggingFaceEndpoint'\n",
        "#and the below mentioned model outperforms most of the available open source LLMs\n",
        "\n",
        "llm = HuggingFaceEndpoint(\n",
        "    repo_id=\"mistralai/Mistral-7B-Instruct-v0.2\") # Model link : https://huggingface.co/mistralai/Mistral-7B-Instruct-v0.2"
      ]
    },
    {
      "cell_type": "code",
      "execution_count": 22,
      "id": "3beee630",
      "metadata": {
        "id": "3beee630"
      },
      "outputs": [],
      "source": [
        "# The LLM takes a prompt as an input and outputs a completion\n",
        "our_query = \"What is the currency of India?\"\n",
        "\n",
        "#Last week langchain has recommended to use invoke function for the below please :)\n",
        "completion = llm.invoke(our_query)"
      ]
    },
    {
      "cell_type": "code",
      "execution_count": 23,
      "id": "259e2628",
      "metadata": {
        "colab": {
          "base_uri": "https://localhost:8080/"
        },
        "id": "259e2628",
        "outputId": "2d03cd3f-f302-4fd4-b37b-9c828fb2cf5c"
      },
      "outputs": [
        {
          "name": "stdout",
          "output_type": "stream",
          "text": [
            "\n",
            "\n",
            "The currency of India is the Indian Rupee. The symbol for the Indian Rupee is ₹. One Rupee is subdivided into 100 paise. The Bank of England began issuing paper rupees in Calcutta as early as 1765, and the Reserve Bank of India has been issuing the currency since it was established in 1935. The Indian rupee is the seventh most traded currency in the foreign exchange market.\n"
          ]
        }
      ],
      "source": [
        "print(completion)"
      ]
    },
    {
      "cell_type": "code",
      "execution_count": null,
      "id": "YPnRj76ntuUe",
      "metadata": {
        "id": "YPnRj76ntuUe"
      },
      "outputs": [],
      "source": []
    },
    {
      "cell_type": "code",
      "execution_count": null,
      "id": "2574b0fa",
      "metadata": {},
      "outputs": [],
      "source": []
    }
  ],
  "metadata": {
    "colab": {
      "provenance": []
    },
    "kernelspec": {
      "display_name": "Python 3 (ipykernel)",
      "language": "python",
      "name": "python3"
    },
    "language_info": {
      "codemirror_mode": {
        "name": "ipython",
        "version": 3
      },
      "file_extension": ".py",
      "mimetype": "text/x-python",
      "name": "python",
      "nbconvert_exporter": "python",
      "pygments_lexer": "ipython3",
      "version": "3.10.9"
    }
  },
  "nbformat": 4,
  "nbformat_minor": 5
}
